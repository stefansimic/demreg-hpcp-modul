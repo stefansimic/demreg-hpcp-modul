{
 "cells": [
  {
   "cell_type": "code",
   "execution_count": 7,
   "id": "4bf2d4b0-baf9-4ee1-8bdf-f0f436e7823f",
   "metadata": {},
   "outputs": [],
   "source": [
    "import numpy as np\n",
    "import time\n",
    "import cProfile, pstats\n",
    "import matplotlib.pyplot as plt\n",
    "\n",
    "from sys import path as sys_path\n",
    "\n",
    "import os\n",
    "from sys import path as sys_path\n",
    "from dotenv import load_dotenv\n",
    "\n",
    "load_dotenv()\n",
    "demreg_path = os.getenv(\"DEMREG_PATH\")\n",
    "if demreg_path:\n",
    "    sys_path.append(demreg_path)\n",
    "else:\n",
    "    raise RuntimeError(\"DEMREG_PATH is not set. Please define it in your environment.\")\n",
    "\n",
    "from demmap_pos import demmap_pos\n",
    "from demmap_numba import demmap_pos_numba"
   ]
  },
  {
   "cell_type": "markdown",
   "id": "361b9dc3",
   "metadata": {},
   "source": [
    "# Benchmark baseline and performance comparison\n",
    "\n",
    "Here we benchmark the baseline of the DEMMAP_POS function and show improvements."
   ]
  },
  {
   "cell_type": "code",
   "execution_count": 8,
   "id": "e9391e2f-1068-412c-88d5-84b1ceac0f30",
   "metadata": {},
   "outputs": [],
   "source": [
    "na = 1000     # Anzahl DEMs (Pixel)\n",
    "nf = 6        # AIA-Kanäle\n",
    "nt = 200      # Temperatur-Bins\n",
    "\n",
    "dd = np.random.random((na, nf)) * 1e3\n",
    "ed = np.random.random((na, nf)) * 20 + 5\n",
    "rmatrix = np.random.random((nt, nf)) * 1e-23\n",
    "logt = np.linspace(5.5, 7.5, nt)\n",
    "dlogt = np.gradient(logt)\n",
    "glc = np.ones(nf)\n",
    "dem_norm0 = np.ones((na, nt))"
   ]
  },
  {
   "cell_type": "code",
   "execution_count": 9,
   "id": "b3a5f052-e64f-4922-99ba-00f1e6f5c674",
   "metadata": {},
   "outputs": [
    {
     "name": "stderr",
     "output_type": "stream",
     "text": [
      "100%|██████████| 10.0/10.0 [00:09<00:00, 1.03 x10^2 DEM/s]\n",
      "100%|██████████| 10.0/10.0 [00:11<00:00, 1.19s/ x10^2 DEM]\n"
     ]
    },
    {
     "name": "stdout",
     "output_type": "stream",
     "text": [
      "dem False\n",
      "edem False\n",
      "elogt False\n",
      "chisq False\n",
      "dn_reg False\n"
     ]
    }
   ],
   "source": [
    "\n",
    "out_ref = demmap_pos(dd, ed, rmatrix, logt, dlogt, glc, dem_norm0=dem_norm0)\n",
    "out_jit  = demmap_pos_numba(dd, ed, rmatrix, logt, dlogt, glc, dem_norm0=dem_norm0)\n",
    "\n",
    "# Optional: quick sanity check\n",
    "for a, b, name in zip(out_ref, out_jit, [\"dem\", \"edem\", \"elogt\", \"chisq\", \"dn_reg\"]):\n",
    "    print(name, np.allclose(a, b, rtol=1e-6, atol=1e-8))"
   ]
  },
  {
   "cell_type": "markdown",
   "id": "051dffa8-7e1e-4b65-ad07-67f1bd17a21d",
   "metadata": {},
   "source": [
    "## Baseline Zeitmessung"
   ]
  },
  {
   "cell_type": "code",
   "execution_count": 3,
   "id": "9b3391e1-22e2-442b-b99f-f5270bd69501",
   "metadata": {},
   "outputs": [
    {
     "name": "stdout",
     "output_type": "stream",
     "text": [
      "Benchmark-Setup: na=1000, nf=6, nt=150\n"
     ]
    },
    {
     "name": "stderr",
     "output_type": "stream",
     "text": [
      "100%|████████████████████████████████████████████████████████████████████████████████████████████| 10.0/10.0 [00:21<00:00, 2.17s/ x10^2 DEM]"
     ]
    },
    {
     "name": "stdout",
     "output_type": "stream",
     "text": [
      "\n",
      "✅ Baseline runtime: 22.11 s for 1000 DEMs\n"
     ]
    },
    {
     "name": "stderr",
     "output_type": "stream",
     "text": [
      "\n"
     ]
    }
   ],
   "source": [
    "print(f\"Benchmark-Setup: na={na}, nf={nf}, nt={nt}\")\n",
    "\n",
    "start = time.perf_counter()\n",
    "dem, edem, elogt, chisq, dn_reg = demmap_pos(dd, ed, rmatrix, logt, dlogt, glc, dem_norm0=dem_norm0)\n",
    "end = time.perf_counter()\n",
    "\n",
    "baseline_time = end - start\n",
    "print(f\"\\n✅ Baseline runtime: {baseline_time:.2f} s for {na} DEMs\")"
   ]
  },
  {
   "cell_type": "markdown",
   "id": "d9107b87-2821-4500-b329-7a8fe7d87cce",
   "metadata": {},
   "source": [
    "### Mit Timeit"
   ]
  },
  {
   "cell_type": "code",
   "execution_count": 4,
   "id": "26c2a6de-1627-40e8-b53f-2b180931ee76",
   "metadata": {},
   "outputs": [
    {
     "name": "stdout",
     "output_type": "stream",
     "text": [
      "Timeit Messung\n"
     ]
    },
    {
     "name": "stderr",
     "output_type": "stream",
     "text": [
      "100%|████████████████████████████████████████████████████████████████████████████████████████████| 10.0/10.0 [00:22<00:00, 2.27s/ x10^2 DEM]\n",
      "100%|████████████████████████████████████████████████████████████████████████████████████████████| 10.0/10.0 [00:23<00:00, 2.30s/ x10^2 DEM]\n",
      "100%|████████████████████████████████████████████████████████████████████████████████████████████| 10.0/10.0 [00:25<00:00, 2.56s/ x10^2 DEM]\n",
      "100%|████████████████████████████████████████████████████████████████████████████████████████████| 10.0/10.0 [00:33<00:00, 3.38s/ x10^2 DEM]\n",
      "100%|████████████████████████████████████████████████████████████████████████████████████████████| 10.0/10.0 [00:33<00:00, 3.37s/ x10^2 DEM]\n",
      "100%|████████████████████████████████████████████████████████████████████████████████████████████| 10.0/10.0 [00:28<00:00, 2.90s/ x10^2 DEM]\n",
      "100%|████████████████████████████████████████████████████████████████████████████████████████████| 10.0/10.0 [00:27<00:00, 2.75s/ x10^2 DEM]\n",
      "100%|████████████████████████████████████████████████████████████████████████████████████████████| 10.0/10.0 [00:29<00:00, 2.97s/ x10^2 DEM]\n"
     ]
    },
    {
     "name": "stdout",
     "output_type": "stream",
     "text": [
      "29.2 s ± 3.69 s per loop (mean ± std. dev. of 7 runs, 1 loop each)\n"
     ]
    }
   ],
   "source": [
    "print(\"Timeit Messung\")\n",
    "%timeit demmap_pos(dd, ed, rmatrix, logt, dlogt, glc, dem_norm0=dem_norm0)"
   ]
  },
  {
   "cell_type": "markdown",
   "id": "3b96d04c-3eea-4156-a99b-c96a75ce38c1",
   "metadata": {},
   "source": [
    "## Profilierung mit CProfile"
   ]
  },
  {
   "cell_type": "code",
   "execution_count": 5,
   "id": "41230e5f-d8db-414c-9980-582a1cf8e34a",
   "metadata": {},
   "outputs": [
    {
     "name": "stdout",
     "output_type": "stream",
     "text": [
      "\n",
      "Running detailed function profiling...\n"
     ]
    },
    {
     "name": "stderr",
     "output_type": "stream",
     "text": [
      "100%|████████████████████████████████████████████████████████████████████████████████████████████| 2.00/2.00 [00:07<00:00, 3.62s/ x10^2 DEM]"
     ]
    },
    {
     "name": "stdout",
     "output_type": "stream",
     "text": [
      "         15083 function calls in 7.334 seconds\n",
      "\n",
      "   Ordered by: internal time\n",
      "   List reduced from 378 to 10 due to restriction <10>\n",
      "\n",
      "   ncalls  tottime  percall  cumtime  percall filename:lineno(function)\n",
      "       82    7.283    0.089    7.283    0.089 {method 'acquire' of '_thread.lock' objects}\n",
      "        2    0.009    0.004    0.009    0.004 {built-in method _posixsubprocess.fork_exec}\n",
      "       22    0.006    0.000    0.006    0.000 /Users/gideon/micromamba/envs/hpcp/lib/python3.11/site-packages/zmq/sugar/socket.py:623(send)\n",
      "        1    0.003    0.003    0.013    0.013 /Users/gideon/micromamba/envs/hpcp/lib/python3.11/site-packages/threadpoolctl.py:1019(_find_libraries_with_dyld)\n",
      "     2010    0.002    0.000    0.004    0.000 /Users/gideon/micromamba/envs/hpcp/lib/python3.11/site-packages/threadpoolctl.py:1201(_check_prefix)\n",
      "      402    0.002    0.000    0.010    0.000 /Users/gideon/micromamba/envs/hpcp/lib/python3.11/site-packages/threadpoolctl.py:1143(_make_controller_from_path)\n",
      "     5237    0.002    0.000    0.002    0.000 {method 'startswith' of 'str' objects}\n",
      "        1    0.001    0.001    7.334    7.334 /Users/gideon/Projects/demreg-hpcp-modul/python/demmap_pos.py:10(demmap_pos)\n",
      "        2    0.001    0.001    0.001    0.001 {built-in method io.open}\n",
      "        2    0.001    0.001    0.001    0.001 {built-in method _ctypes.dlopen}\n",
      "\n",
      "\n"
     ]
    },
    {
     "name": "stderr",
     "output_type": "stream",
     "text": [
      "\n"
     ]
    },
    {
     "data": {
      "text/plain": [
       "<pstats.Stats at 0x111556f90>"
      ]
     },
     "execution_count": 5,
     "metadata": {},
     "output_type": "execute_result"
    }
   ],
   "source": [
    "print(\"\\nRunning detailed function profiling...\")\n",
    "with cProfile.Profile() as pr:\n",
    "    demmap_pos(dd[:200], ed[:200], rmatrix, logt, dlogt, glc, dem_norm0=dem_norm0[:200])\n",
    "stats = pstats.Stats(pr)\n",
    "stats.sort_stats('tottime').print_stats(10)"
   ]
  },
  {
   "cell_type": "markdown",
   "id": "980f4917-3534-464b-adbc-60b4fd21ec45",
   "metadata": {},
   "source": [
    "## Numba Optimierung"
   ]
  },
  {
   "cell_type": "code",
   "execution_count": 10,
   "id": "5cb59b93-7637-433f-b3a1-536c041128f6",
   "metadata": {},
   "outputs": [
    {
     "data": {
      "text/plain": [
       "' ToDo\\ntry:\\n    from numba import njit\\n\\n    @njit\\n    def dem_inv_gsvd_numba(A, b):\\n        # Dummy-JIT-Funktion für Beispielzwecke\\n        return np.linalg.lstsq(A, b, rcond=None)[0]\\n\\n    # Beispiel: JIT warm-up\\n    A = np.random.rand(100, 10)\\n    b = np.random.rand(100)\\n    dem_inv_gsvd_numba(A, b)\\n\\n    start = time.perf_counter()\\n    for _ in range(10):\\n        dem_inv_gsvd_numba(A, b)\\n    numba_time = (time.perf_counter() - start) / 10\\n\\n    print(f\"\\nNumba test runtime (dummy GSVD): {numba_time:.5f} s\")\\nexcept ImportError:\\n    print(\"Numba not installed – skipping optimization example.\")\\n'"
      ]
     },
     "execution_count": 10,
     "metadata": {},
     "output_type": "execute_result"
    }
   ],
   "source": [
    "''' ToDo\n",
    "try:\n",
    "    from numba import njit\n",
    "\n",
    "    @njit\n",
    "    def dem_inv_gsvd_numba(A, b):\n",
    "        # Dummy-JIT-Funktion für Beispielzwecke\n",
    "        return np.linalg.lstsq(A, b, rcond=None)[0]\n",
    "\n",
    "    # Beispiel: JIT warm-up\n",
    "    A = np.random.rand(100, 10)\n",
    "    b = np.random.rand(100)\n",
    "    dem_inv_gsvd_numba(A, b)\n",
    "\n",
    "    start = time.perf_counter()\n",
    "    for _ in range(10):\n",
    "        dem_inv_gsvd_numba(A, b)\n",
    "    numba_time = (time.perf_counter() - start) / 10\n",
    "\n",
    "    print(f\"\\nNumba test runtime (dummy GSVD): {numba_time:.5f} s\")\n",
    "except ImportError:\n",
    "    print(\"Numba not installed – skipping optimization example.\")\n",
    "'''"
   ]
  },
  {
   "cell_type": "markdown",
   "id": "ed1b09f1-6d61-4a9c-af2f-89e2e8277fce",
   "metadata": {},
   "source": [
    "## Skalierungstests"
   ]
  },
  {
   "cell_type": "code",
   "execution_count": 13,
   "id": "71c0de8f-0a4c-4399-bafb-e004ed97bb2b",
   "metadata": {},
   "outputs": [
    {
     "name": "stdout",
     "output_type": "stream",
     "text": [
      "n=10: 0.23 s\n",
      "n=100: 2.51 s\n"
     ]
    },
    {
     "name": "stderr",
     "output_type": "stream",
     "text": [
      "100%|██████████| 5.00/5.00 [00:03<00:00, 1.42 x10^2 DEM/s]"
     ]
    },
    {
     "name": "stdout",
     "output_type": "stream",
     "text": [
      "n=500: 3.65 s\n"
     ]
    },
    {
     "name": "stderr",
     "output_type": "stream",
     "text": [
      "\n",
      "100%|██████████| 10.0/10.0 [00:04<00:00, 2.02 x10^2 DEM/s]\n"
     ]
    },
    {
     "name": "stdout",
     "output_type": "stream",
     "text": [
      "n=1000: 5.18 s\n"
     ]
    },
    {
     "name": "stderr",
     "output_type": "stream",
     "text": [
      "100%|██████████| 20.0/20.0 [00:10<00:00, 1.95 x10^2 DEM/s]\n"
     ]
    },
    {
     "name": "stdout",
     "output_type": "stream",
     "text": [
      "n=2000: 10.72 s\n"
     ]
    },
    {
     "name": "stderr",
     "output_type": "stream",
     "text": [
      "100%|██████████| 50.0/50.0 [00:24<00:00, 2.06 x10^2 DEM/s]\n"
     ]
    },
    {
     "name": "stdout",
     "output_type": "stream",
     "text": [
      "n=5000: 24.70 s\n"
     ]
    },
    {
     "data": {
      "image/png": "[encoded data removed]",
      "text/plain": [
       "<Figure size 600x400 with 1 Axes>"
      ]
     },
     "metadata": {},
     "output_type": "display_data"
    }
   ],
   "source": [
    "sizes = [10, 100, 500, 1000, 2000, 5000]\n",
    "times = []\n",
    "\n",
    "for n in sizes:\n",
    "    dd_test = np.random.random((n, nf)) * 1e3\n",
    "    ed_test = np.random.random((n, nf)) * 20 + 5\n",
    "    dem_norm0_test = np.ones((n, nt))\n",
    "    \n",
    "    start = time.perf_counter()\n",
    "    demmap_pos(dd_test, ed_test, rmatrix, logt, dlogt, glc, dem_norm0=dem_norm0_test)\n",
    "    end = time.perf_counter()\n",
    "    \n",
    "    times.append(end - start)\n",
    "    print(f\"n={n}: {end - start:.2f} s\")\n",
    "\n",
    "plt.figure(figsize=(6,4))\n",
    "plt.plot(sizes, times, 'o-', label=\"CPU Baseline\")\n",
    "plt.xlabel(\"Anzahl DEMs (n)\")\n",
    "plt.ylabel(\"Laufzeit [s]\")\n",
    "plt.title(\"Strong Scaling Benchmark\")\n",
    "plt.legend()\n",
    "plt.grid(True)\n",
    "plt.show()"
   ]
  },
  {
   "cell_type": "markdown",
   "id": "470d685a-fbd0-47c2-aa03-6cc2fd20c776",
   "metadata": {},
   "source": [
    "## Speed-up-Tabelle (noch Platzhalter)"
   ]
  },
  {
   "cell_type": "code",
   "execution_count": 15,
   "id": "60ed3e69-ec37-42d4-9c75-902d8e0a5247",
   "metadata": {},
   "outputs": [
    {
     "data": {
      "text/html": [
       "<div>\n",
       "<style scoped>\n",
       "    .dataframe tbody tr th:only-of-type {\n",
       "        vertical-align: middle;\n",
       "    }\n",
       "\n",
       "    .dataframe tbody tr th {\n",
       "        vertical-align: top;\n",
       "    }\n",
       "\n",
       "    .dataframe thead th {\n",
       "        text-align: right;\n",
       "    }\n",
       "</style>\n",
       "<table border=\"1\" class=\"dataframe\">\n",
       "  <thead>\n",
       "    <tr style=\"text-align: right;\">\n",
       "      <th></th>\n",
       "      <th>Version</th>\n",
       "      <th>Runtime [s]</th>\n",
       "      <th>Speed-up</th>\n",
       "    </tr>\n",
       "  </thead>\n",
       "  <tbody>\n",
       "    <tr>\n",
       "      <th>0</th>\n",
       "      <td>Baseline (CPU)</td>\n",
       "      <td>4.821416</td>\n",
       "      <td>1.0</td>\n",
       "    </tr>\n",
       "    <tr>\n",
       "      <th>1</th>\n",
       "      <td>Optimized (Numba)</td>\n",
       "      <td>NaN</td>\n",
       "      <td>NaN</td>\n",
       "    </tr>\n",
       "    <tr>\n",
       "      <th>2</th>\n",
       "      <td>GPU (CuPy)</td>\n",
       "      <td>NaN</td>\n",
       "      <td>NaN</td>\n",
       "    </tr>\n",
       "  </tbody>\n",
       "</table>\n",
       "</div>"
      ],
      "text/plain": [
       "             Version  Runtime [s]  Speed-up\n",
       "0     Baseline (CPU)     4.821416       1.0\n",
       "1  Optimized (Numba)          NaN       NaN\n",
       "2         GPU (CuPy)          NaN       NaN"
      ]
     },
     "metadata": {},
     "output_type": "display_data"
    }
   ],
   "source": [
    "import pandas as pd\n",
    "data = {\n",
    "    \"Version\": [\"Baseline (CPU)\", \"Optimized (Numba)\", \"GPU (CuPy)\"],\n",
    "    \"Runtime [s]\": [baseline_time, np.nan, np.nan],\n",
    "    \"Speed-up\": [1.0, np.nan, np.nan]\n",
    "}\n",
    "df = pd.DataFrame(data)\n",
    "display(df)"
   ]
  },
  {
   "cell_type": "code",
   "execution_count": null,
   "id": "9a34f201-12e4-4804-8017-454b800ee7d0",
   "metadata": {},
   "outputs": [],
   "source": []
  }
 ],
 "metadata": {
  "kernelspec": {
   "display_name": "Python 3 (ipykernel)",
   "language": "python",
   "name": "python3"
  },
  "language_info": {
   "codemirror_mode": {
    "name": "ipython",
    "version": 3
   },
   "file_extension": ".py",
   "mimetype": "text/x-python",
   "name": "python",
   "nbconvert_exporter": "python",
   "pygments_lexer": "ipython3",
   "version": "3.13.7"
  }
 },
 "nbformat": 4,
 "nbformat_minor": 5
}
