{
 "cells": [
  {
   "cell_type": "code",
   "execution_count": null,
   "id": "22c04326-bad1-4510-95f4-df6d1089e75e",
   "metadata": {},
   "outputs": [
    {
     "name": "stdout",
     "output_type": "stream",
     "text": [
      "Requirement already satisfied: numpy in /usr/local/Cellar/jupyterlab/4.4.9/libexec/lib/python3.13/site-packages (2.3.3)\n",
      "Requirement already satisfied: matplotlib in /usr/local/Cellar/jupyterlab/4.4.9/libexec/lib/python3.13/site-packages (3.10.6)\n",
      "Requirement already satisfied: scipy in /usr/local/Cellar/jupyterlab/4.4.9/libexec/lib/python3.13/site-packages (1.16.2)\n",
      "Requirement already satisfied: tqdm in /usr/local/Cellar/jupyterlab/4.4.9/libexec/lib/python3.13/site-packages (4.67.1)\n",
      "Requirement already satisfied: threadpoolctl in /usr/local/Cellar/jupyterlab/4.4.9/libexec/lib/python3.13/site-packages (3.6.0)\n",
      "Requirement already satisfied: aiapy in /usr/local/Cellar/jupyterlab/4.4.9/libexec/lib/python3.13/site-packages (0.10.2)\n",
      "Requirement already satisfied: numba in /usr/local/Cellar/jupyterlab/4.4.9/libexec/lib/python3.13/site-packages (0.62.1)\n",
      "Collecting dotenv\n",
      "  Downloading dotenv-0.9.9-py2.py3-none-any.whl.metadata (279 bytes)\n",
      "Requirement already satisfied: contourpy>=1.0.1 in /usr/local/Cellar/jupyterlab/4.4.9/libexec/lib/python3.13/site-packages (from matplotlib) (1.3.3)\n",
      "Requirement already satisfied: cycler>=0.10 in /usr/local/Cellar/jupyterlab/4.4.9/libexec/lib/python3.13/site-packages (from matplotlib) (0.12.1)\n",
      "Requirement already satisfied: fonttools>=4.22.0 in /usr/local/Cellar/jupyterlab/4.4.9/libexec/lib/python3.13/site-packages (from matplotlib) (4.60.1)\n",
      "Requirement already satisfied: kiwisolver>=1.3.1 in /usr/local/Cellar/jupyterlab/4.4.9/libexec/lib/python3.13/site-packages (from matplotlib) (1.4.9)\n",
      "Requirement already satisfied: packaging>=20.0 in /usr/local/Cellar/jupyterlab/4.4.9/libexec/lib/python3.13/site-packages (from matplotlib) (25.0)\n",
      "Requirement already satisfied: pillow>=8 in /usr/local/Cellar/jupyterlab/4.4.9/libexec/lib/python3.13/site-packages (from matplotlib) (11.3.0)\n",
      "Requirement already satisfied: pyparsing>=2.3.1 in /usr/local/Cellar/jupyterlab/4.4.9/libexec/lib/python3.13/site-packages (from matplotlib) (3.2.5)\n",
      "Requirement already satisfied: python-dateutil>=2.7 in /usr/local/Cellar/jupyterlab/4.4.9/libexec/lib/python3.13/site-packages (from matplotlib) (2.9.0.post0)\n",
      "Requirement already satisfied: sunpy>=6.0 in /usr/local/Cellar/jupyterlab/4.4.9/libexec/lib/python3.13/site-packages (from sunpy[image,map,net]>=6.0->aiapy) (7.0.2)\n",
      "Requirement already satisfied: llvmlite<0.46,>=0.45.0dev0 in /usr/local/Cellar/jupyterlab/4.4.9/libexec/lib/python3.13/site-packages (from numba) (0.45.1)\n",
      "Collecting python-dotenv (from dotenv)\n",
      "  Downloading python_dotenv-1.1.1-py3-none-any.whl.metadata (24 kB)\n",
      "Requirement already satisfied: six>=1.5 in /usr/local/Cellar/jupyterlab/4.4.9/libexec/lib/python3.13/site-packages (from python-dateutil>=2.7->matplotlib) (1.17.0)\n",
      "Requirement already satisfied: astropy>=6.1.0 in /usr/local/Cellar/jupyterlab/4.4.9/libexec/lib/python3.13/site-packages (from sunpy>=6.0->sunpy[image,map,net]>=6.0->aiapy) (7.1.0)\n",
      "Requirement already satisfied: parfive>=2.1.0 in /usr/local/Cellar/jupyterlab/4.4.9/libexec/lib/python3.13/site-packages (from parfive[ftp]>=2.1.0->sunpy>=6.0->sunpy[image,map,net]>=6.0->aiapy) (2.2.0)\n",
      "Requirement already satisfied: pyerfa>=2.0.1.1 in /usr/local/Cellar/jupyterlab/4.4.9/libexec/lib/python3.13/site-packages (from sunpy>=6.0->sunpy[image,map,net]>=6.0->aiapy) (2.0.1.5)\n",
      "Requirement already satisfied: requests>=2.32.0 in /usr/local/Cellar/jupyterlab/4.4.9/libexec/lib/python3.13/site-packages (from sunpy>=6.0->sunpy[image,map,net]>=6.0->aiapy) (2.32.5)\n",
      "Requirement already satisfied: fsspec>=2023.6.0 in /usr/local/Cellar/jupyterlab/4.4.9/libexec/lib/python3.13/site-packages (from sunpy>=6.0->sunpy[image,map,net]>=6.0->aiapy) (2025.9.0)\n",
      "Requirement already satisfied: astropy-iers-data>=0.2025.4.28.0.37.27 in /usr/local/Cellar/jupyterlab/4.4.9/libexec/lib/python3.13/site-packages (from astropy>=6.1.0->sunpy>=6.0->sunpy[image,map,net]>=6.0->aiapy) (0.2025.10.6.0.35.25)\n",
      "Requirement already satisfied: PyYAML>=6.0.0 in /usr/local/Cellar/jupyterlab/4.4.9/libexec/lib/python3.13/site-packages (from astropy>=6.1.0->sunpy>=6.0->sunpy[image,map,net]>=6.0->aiapy) (6.0.3)\n",
      "Requirement already satisfied: aiohttp in /usr/local/Cellar/jupyterlab/4.4.9/libexec/lib/python3.13/site-packages (from parfive>=2.1.0->parfive[ftp]>=2.1.0->sunpy>=6.0->sunpy[image,map,net]>=6.0->aiapy) (3.13.0)\n",
      "Requirement already satisfied: aioftp>=0.17.1 in /usr/local/Cellar/jupyterlab/4.4.9/libexec/lib/python3.13/site-packages (from parfive[ftp]>=2.1.0->sunpy>=6.0->sunpy[image,map,net]>=6.0->aiapy) (0.27.2)\n",
      "Requirement already satisfied: charset_normalizer<4,>=2 in /usr/local/Cellar/jupyterlab/4.4.9/libexec/lib/python3.13/site-packages (from requests>=2.32.0->sunpy>=6.0->sunpy[image,map,net]>=6.0->aiapy) (3.4.3)\n",
      "Requirement already satisfied: idna<4,>=2.5 in /usr/local/Cellar/jupyterlab/4.4.9/libexec/lib/python3.13/site-packages (from requests>=2.32.0->sunpy>=6.0->sunpy[image,map,net]>=6.0->aiapy) (3.10)\n",
      "Requirement already satisfied: urllib3<3,>=1.21.1 in /usr/local/Cellar/jupyterlab/4.4.9/libexec/lib/python3.13/site-packages (from requests>=2.32.0->sunpy>=6.0->sunpy[image,map,net]>=6.0->aiapy) (2.5.0)\n",
      "Requirement already satisfied: certifi>=2017.4.17 in /usr/local/opt/certifi/lib/python3.13/site-packages (from requests>=2.32.0->sunpy>=6.0->sunpy[image,map,net]>=6.0->aiapy) (2025.10.5)\n",
      "Requirement already satisfied: mpl-animators>=1.2.0 in /usr/local/Cellar/jupyterlab/4.4.9/libexec/lib/python3.13/site-packages (from sunpy[image,map,net]>=6.0->aiapy) (1.2.4)\n",
      "Requirement already satisfied: reproject>=0.12.0 in /usr/local/Cellar/jupyterlab/4.4.9/libexec/lib/python3.13/site-packages (from sunpy[image,map,net]>=6.0->aiapy) (0.16.0)\n",
      "Requirement already satisfied: beautifulsoup4>=4.13.0 in /usr/local/Cellar/jupyterlab/4.4.9/libexec/lib/python3.13/site-packages (from sunpy[image,map,net]>=6.0->aiapy) (4.13.5)\n",
      "Requirement already satisfied: drms>=0.7.1 in /usr/local/Cellar/jupyterlab/4.4.9/libexec/lib/python3.13/site-packages (from sunpy[image,map,net]>=6.0->aiapy) (0.9.0)\n",
      "Requirement already satisfied: zeep>=4.3.0 in /usr/local/Cellar/jupyterlab/4.4.9/libexec/lib/python3.13/site-packages (from sunpy[image,map,net]>=6.0->aiapy) (4.3.2)\n",
      "Requirement already satisfied: soupsieve>1.2 in /usr/local/Cellar/jupyterlab/4.4.9/libexec/lib/python3.13/site-packages (from beautifulsoup4>=4.13.0->sunpy[image,map,net]>=6.0->aiapy) (2.8)\n",
      "Requirement already satisfied: typing-extensions>=4.0.0 in /usr/local/Cellar/jupyterlab/4.4.9/libexec/lib/python3.13/site-packages (from beautifulsoup4>=4.13.0->sunpy[image,map,net]>=6.0->aiapy) (4.15.0)\n",
      "Requirement already satisfied: pandas>=1.5.1 in /usr/local/Cellar/jupyterlab/4.4.9/libexec/lib/python3.13/site-packages (from drms>=0.7.1->sunpy[image,map,net]>=6.0->aiapy) (2.3.3)\n",
      "Requirement already satisfied: pytz>=2020.1 in /usr/local/Cellar/jupyterlab/4.4.9/libexec/lib/python3.13/site-packages (from pandas>=1.5.1->drms>=0.7.1->sunpy[image,map,net]>=6.0->aiapy) (2025.2)\n",
      "Requirement already satisfied: tzdata>=2022.7 in /usr/local/Cellar/jupyterlab/4.4.9/libexec/lib/python3.13/site-packages (from pandas>=1.5.1->drms>=0.7.1->sunpy[image,map,net]>=6.0->aiapy) (2025.2)\n",
      "Requirement already satisfied: astropy-healpix>=1.0 in /usr/local/Cellar/jupyterlab/4.4.9/libexec/lib/python3.13/site-packages (from reproject>=0.12.0->sunpy[image,map,net]>=6.0->aiapy) (1.1.2)\n",
      "Requirement already satisfied: dask>=2021.8 in /usr/local/Cellar/jupyterlab/4.4.9/libexec/lib/python3.13/site-packages (from dask[array]>=2021.8->reproject>=0.12.0->sunpy[image,map,net]>=6.0->aiapy) (2025.9.1)\n",
      "Requirement already satisfied: zarr>=2.11.0 in /usr/local/Cellar/jupyterlab/4.4.9/libexec/lib/python3.13/site-packages (from reproject>=0.12.0->sunpy[image,map,net]>=6.0->aiapy) (3.1.3)\n",
      "Requirement already satisfied: pyavm>=0.9.6 in /usr/local/Cellar/jupyterlab/4.4.9/libexec/lib/python3.13/site-packages (from reproject>=0.12.0->sunpy[image,map,net]>=6.0->aiapy) (0.9.6)\n",
      "Requirement already satisfied: click>=8.1 in /usr/local/Cellar/jupyterlab/4.4.9/libexec/lib/python3.13/site-packages (from dask>=2021.8->dask[array]>=2021.8->reproject>=0.12.0->sunpy[image,map,net]>=6.0->aiapy) (8.3.0)\n",
      "Requirement already satisfied: cloudpickle>=3.0.0 in /usr/local/Cellar/jupyterlab/4.4.9/libexec/lib/python3.13/site-packages (from dask>=2021.8->dask[array]>=2021.8->reproject>=0.12.0->sunpy[image,map,net]>=6.0->aiapy) (3.1.1)\n",
      "Requirement already satisfied: partd>=1.4.0 in /usr/local/Cellar/jupyterlab/4.4.9/libexec/lib/python3.13/site-packages (from dask>=2021.8->dask[array]>=2021.8->reproject>=0.12.0->sunpy[image,map,net]>=6.0->aiapy) (1.4.2)\n",
      "Requirement already satisfied: toolz>=0.10.0 in /usr/local/Cellar/jupyterlab/4.4.9/libexec/lib/python3.13/site-packages (from dask>=2021.8->dask[array]>=2021.8->reproject>=0.12.0->sunpy[image,map,net]>=6.0->aiapy) (1.0.0)\n",
      "Requirement already satisfied: locket in /usr/local/Cellar/jupyterlab/4.4.9/libexec/lib/python3.13/site-packages (from partd>=1.4.0->dask>=2021.8->dask[array]>=2021.8->reproject>=0.12.0->sunpy[image,map,net]>=6.0->aiapy) (1.0.0)\n",
      "Requirement already satisfied: donfig>=0.8 in /usr/local/Cellar/jupyterlab/4.4.9/libexec/lib/python3.13/site-packages (from zarr>=2.11.0->reproject>=0.12.0->sunpy[image,map,net]>=6.0->aiapy) (0.8.1.post1)\n",
      "Requirement already satisfied: numcodecs>=0.14 in /usr/local/Cellar/jupyterlab/4.4.9/libexec/lib/python3.13/site-packages (from numcodecs[crc32c]>=0.14->zarr>=2.11.0->reproject>=0.12.0->sunpy[image,map,net]>=6.0->aiapy) (0.16.3)\n",
      "Requirement already satisfied: crc32c>=2.7 in /usr/local/Cellar/jupyterlab/4.4.9/libexec/lib/python3.13/site-packages (from numcodecs[crc32c]>=0.14->zarr>=2.11.0->reproject>=0.12.0->sunpy[image,map,net]>=6.0->aiapy) (2.7.1)\n",
      "Requirement already satisfied: attrs>=17.2.0 in /usr/local/Cellar/jupyterlab/4.4.9/libexec/lib/python3.13/site-packages (from zeep>=4.3.0->sunpy[image,map,net]>=6.0->aiapy) (25.3.0)\n",
      "Requirement already satisfied: isodate>=0.5.4 in /usr/local/Cellar/jupyterlab/4.4.9/libexec/lib/python3.13/site-packages (from zeep>=4.3.0->sunpy[image,map,net]>=6.0->aiapy) (0.7.2)\n",
      "Requirement already satisfied: lxml>=4.6.0 in /usr/local/Cellar/jupyterlab/4.4.9/libexec/lib/python3.13/site-packages (from zeep>=4.3.0->sunpy[image,map,net]>=6.0->aiapy) (6.0.2)\n",
      "Requirement already satisfied: platformdirs>=1.4.0 in /usr/local/Cellar/jupyterlab/4.4.9/libexec/lib/python3.13/site-packages (from zeep>=4.3.0->sunpy[image,map,net]>=6.0->aiapy) (4.4.0)\n",
      "Requirement already satisfied: requests-toolbelt>=0.7.1 in /usr/local/Cellar/jupyterlab/4.4.9/libexec/lib/python3.13/site-packages (from zeep>=4.3.0->sunpy[image,map,net]>=6.0->aiapy) (1.0.0)\n",
      "Requirement already satisfied: requests-file>=1.5.1 in /usr/local/Cellar/jupyterlab/4.4.9/libexec/lib/python3.13/site-packages (from zeep>=4.3.0->sunpy[image,map,net]>=6.0->aiapy) (2.1.0)\n",
      "Requirement already satisfied: aiohappyeyeballs>=2.5.0 in /usr/local/Cellar/jupyterlab/4.4.9/libexec/lib/python3.13/site-packages (from aiohttp->parfive>=2.1.0->parfive[ftp]>=2.1.0->sunpy>=6.0->sunpy[image,map,net]>=6.0->aiapy) (2.6.1)\n",
      "Requirement already satisfied: aiosignal>=1.4.0 in /usr/local/Cellar/jupyterlab/4.4.9/libexec/lib/python3.13/site-packages (from aiohttp->parfive>=2.1.0->parfive[ftp]>=2.1.0->sunpy>=6.0->sunpy[image,map,net]>=6.0->aiapy) (1.4.0)\n",
      "Requirement already satisfied: frozenlist>=1.1.1 in /usr/local/Cellar/jupyterlab/4.4.9/libexec/lib/python3.13/site-packages (from aiohttp->parfive>=2.1.0->parfive[ftp]>=2.1.0->sunpy>=6.0->sunpy[image,map,net]>=6.0->aiapy) (1.8.0)\n",
      "Requirement already satisfied: multidict<7.0,>=4.5 in /usr/local/Cellar/jupyterlab/4.4.9/libexec/lib/python3.13/site-packages (from aiohttp->parfive>=2.1.0->parfive[ftp]>=2.1.0->sunpy>=6.0->sunpy[image,map,net]>=6.0->aiapy) (6.7.0)\n",
      "Requirement already satisfied: propcache>=0.2.0 in /usr/local/Cellar/jupyterlab/4.4.9/libexec/lib/python3.13/site-packages (from aiohttp->parfive>=2.1.0->parfive[ftp]>=2.1.0->sunpy>=6.0->sunpy[image,map,net]>=6.0->aiapy) (0.4.0)\n",
      "Requirement already satisfied: yarl<2.0,>=1.17.0 in /usr/local/Cellar/jupyterlab/4.4.9/libexec/lib/python3.13/site-packages (from aiohttp->parfive>=2.1.0->parfive[ftp]>=2.1.0->sunpy>=6.0->sunpy[image,map,net]>=6.0->aiapy) (1.22.0)\n",
      "Downloading dotenv-0.9.9-py2.py3-none-any.whl (1.9 kB)\n",
      "Downloading python_dotenv-1.1.1-py3-none-any.whl (20 kB)\n",
      "Installing collected packages: python-dotenv, dotenv\n",
      "\u001b[2K   \u001b[90m━━━━━━━━━━━━━━━━━━━━━━━━━━━━━━━━━━━━━━━━\u001b[0m \u001b[32m2/2\u001b[0m [dotenv]\n",
      "\u001b[1A\u001b[2KSuccessfully installed dotenv-0.9.9 python-dotenv-1.1.1\n",
      "Note: you may need to restart the kernel to use updated packages.\n"
     ]
    }
   ],
   "source": [
    "pip install numpy matplotlib scipy tqdm threadpoolctl aiapy numba dotenv dask"
   ]
  },
  {
   "cell_type": "code",
   "execution_count": null,
   "id": "d47bc47e-1dff-456b-a515-3fa745b5ffe8",
   "metadata": {},
   "outputs": [],
   "source": []
  }
 ],
 "metadata": {
  "kernelspec": {
   "display_name": "Python 3 (ipykernel)",
   "language": "python",
   "name": "python3"
  },
  "language_info": {
   "codemirror_mode": {
    "name": "ipython",
    "version": 3
   },
   "file_extension": ".py",
   "mimetype": "text/x-python",
   "name": "python",
   "nbconvert_exporter": "python",
   "pygments_lexer": "ipython3",
   "version": "3.13.7"
  }
 },
 "nbformat": 4,
 "nbformat_minor": 5
}
